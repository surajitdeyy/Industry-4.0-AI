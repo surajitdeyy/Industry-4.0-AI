{
 "cells": [
  {
   "cell_type": "code",
   "execution_count": null,
   "metadata": {},
   "outputs": [],
   "source": [
    "import matplotlib.pyplot as plt\n",
    "import numpy as np\n",
    "from PIL import Image\n",
    "from skimage import img_as_ubyte\n",
    "import cv2\n",
    "import os\n",
    "from shutil import copyfile\n",
    "import glob"
   ]
  },
  {
   "cell_type": "code",
   "execution_count": null,
   "metadata": {},
   "outputs": [],
   "source": [
    "def getRotatedImage(img, angle):\n",
    "    (h, w) = img.shape[:2]\n",
    "    center = (w / 2, h / 2)\n",
    "    temp_obj = cv2.getRotationMatrix2D(center, angle, 1.0)\n",
    "    return cv2.warpAffine(img, temp_obj, (h, w))"
   ]
  },
  {
   "cell_type": "code",
   "execution_count": null,
   "metadata": {},
   "outputs": [],
   "source": [
    "def saveImage(dest_path, filename, extension, img):\n",
    "    file_base_name  = os.path.basename(filename)\n",
    "    dest_filename = \"{}_{}{}\".format(os.path.splitext(file_base_name)[0], extension, os.path.splitext(file_base_name)[1])\n",
    "    cv2.imwrite(os.path.join(dest_path, dest_filename), img)"
   ]
  },
  {
   "cell_type": "code",
   "execution_count": null,
   "metadata": {},
   "outputs": [],
   "source": [
    "def augment_store_image(filename, dest_images_path):\n",
    "    saveImage(dest_images_path, filename, \"Org\", cv2.imread(filename))\n",
    "    \n",
    "    img = cv2.imread(filename)\n",
    "    \n",
    "    saveImage(dest_images_path, filename, \"1\", cv2.flip(img, 0))\n",
    "    saveImage(dest_images_path, filename, \"2\", cv2.flip(img, 1))\n",
    "    saveImage(dest_images_path, filename, \"3\", getRotatedImage(img, 90))\n",
    "    saveImage(dest_images_path, filename, \"4\", cv2.flip(getRotatedImage(img, 90), 0))\n",
    "    saveImage(dest_images_path, filename, \"5\", cv2.flip(getRotatedImage(img, 90), 1))\n",
    "    saveImage(dest_images_path, filename, \"6\", getRotatedImage(img, 180))\n",
    "    saveImage(dest_images_path, filename, \"7\", cv2.flip(getRotatedImage(img, 180), 0))\n",
    "    saveImage(dest_images_path, filename, \"8\", cv2.flip(getRotatedImage(img, 180), 1))\n",
    "    saveImage(dest_images_path, filename, \"9\", getRotatedImage(img, 270))\n",
    "    saveImage(dest_images_path, filename, \"10\", cv2.flip(getRotatedImage(img, 270), 0))\n",
    "    saveImage(dest_images_path, filename, \"11\", cv2.flip(getRotatedImage(img, 270), 1))\n",
    "\n",
    "    img_hist_eq = np.concatenate([np.expand_dims(cv2.equalizeHist(img[:,:,i]), axis=2) for i in range(3)], axis=2)\n",
    "    saveImage(dest_images_path, filename, \"12\", img_hist_eq)\n",
    "    saveImage(dest_images_path, filename, \"13\", cv2.flip(img_hist_eq, 0))\n",
    "    saveImage(dest_images_path, filename, \"14\", cv2.flip(img_hist_eq, 1))"
   ]
  },
  {
   "cell_type": "code",
   "execution_count": null,
   "metadata": {},
   "outputs": [],
   "source": [
    "source_images_path = \"/home/ubuntu/Data/AI4AXI/Bad_parts\"\n",
    "dest_images_path = \"/home/ubuntu/Data/AI4AXI/Bad_parts_Augmented\""
   ]
  },
  {
   "cell_type": "code",
   "execution_count": null,
   "metadata": {},
   "outputs": [],
   "source": [
    "i = 0\n",
    "for file_name in glob.glob(source_images_path + \"/*.png\"):\n",
    "    print(\"Working on {}/200..\".format(i+1))\n",
    "    augment_store_image(file_name, dest_images_path)"
   ]
  }
 ],
 "metadata": {
  "kernelspec": {
   "display_name": "Environment (conda_pytorch_p27)",
   "language": "python",
   "name": "conda_pytorch_p27"
  },
  "language_info": {
   "codemirror_mode": {
    "name": "ipython",
    "version": 2
   },
   "file_extension": ".py",
   "mimetype": "text/x-python",
   "name": "python",
   "nbconvert_exporter": "python",
   "pygments_lexer": "ipython2",
   "version": "2.7.15"
  }
 },
 "nbformat": 4,
 "nbformat_minor": 2
}
