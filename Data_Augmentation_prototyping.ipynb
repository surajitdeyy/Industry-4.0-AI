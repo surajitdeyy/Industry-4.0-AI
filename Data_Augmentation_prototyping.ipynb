{
 "cells": [
  {
   "cell_type": "code",
   "execution_count": 1,
   "metadata": {},
   "outputs": [],
   "source": [
    "import matplotlib.pyplot as plt\n",
    "import numpy as np\n",
    "from PIL import Image\n",
    "from skimage import img_as_ubyte\n",
    "import cv2\n",
    "import os\n",
    "from shutil import copyfile\n",
    "import glob"
   ]
  },
  {
   "cell_type": "code",
   "execution_count": 2,
   "metadata": {},
   "outputs": [],
   "source": [
    "def getRotatedImage(img, angle):\n",
    "    (h, w) = img.shape[:2]\n",
    "    center = (w / 2, h / 2)\n",
    "    temp_obj = cv2.getRotationMatrix2D(center, angle, 1.0)\n",
    "    return cv2.warpAffine(img, temp_obj, (h, w))"
   ]
  },
  {
   "cell_type": "code",
   "execution_count": 3,
   "metadata": {},
   "outputs": [],
   "source": [
    "def saveImage(dest_path, filename, extension, img):\n",
    "    file_base_name  = os.path.basename(filename)\n",
    "    dest_filename = \"{}_{}{}\".format(os.path.splitext(file_base_name)[0], extension, os.path.splitext(file_base_name)[1])\n",
    "    cv2.imwrite(os.path.join(dest_path, dest_filename), img)"
   ]
  },
  {
   "cell_type": "code",
   "execution_count": 4,
   "metadata": {},
   "outputs": [],
   "source": [
    "def augment_store_image(filename, dest_images_path):\n",
    "    saveImage(dest_images_path, filename, \"Org\", cv2.imread(filename))\n",
    "    \n",
    "    img = cv2.imread(filename)\n",
    "    \n",
    "    saveImage(dest_images_path, filename, \"1\", cv2.flip(img, 0))\n",
    "    saveImage(dest_images_path, filename, \"2\", cv2.flip(img, 1))\n",
    "    saveImage(dest_images_path, filename, \"3\", getRotatedImage(img, 90))\n",
    "    saveImage(dest_images_path, filename, \"4\", cv2.flip(getRotatedImage(img, 90), 0))\n",
    "    saveImage(dest_images_path, filename, \"5\", cv2.flip(getRotatedImage(img, 90), 1))\n",
    "    saveImage(dest_images_path, filename, \"6\", getRotatedImage(img, 180))\n",
    "    saveImage(dest_images_path, filename, \"7\", cv2.flip(getRotatedImage(img, 180), 0))\n",
    "    saveImage(dest_images_path, filename, \"8\", cv2.flip(getRotatedImage(img, 180), 1))\n",
    "    saveImage(dest_images_path, filename, \"9\", getRotatedImage(img, 270))\n",
    "    saveImage(dest_images_path, filename, \"10\", cv2.flip(getRotatedImage(img, 270), 0))\n",
    "    saveImage(dest_images_path, filename, \"11\", cv2.flip(getRotatedImage(img, 270), 1))\n",
    "\n",
    "    img_hist_eq = np.concatenate([np.expand_dims(cv2.equalizeHist(img[:,:,i]), axis=2) for i in range(3)], axis=2)\n",
    "    saveImage(dest_images_path, filename, \"12\", img_hist_eq)\n",
    "    saveImage(dest_images_path, filename, \"13\", cv2.flip(img_hist_eq, 0))\n",
    "    saveImage(dest_images_path, filename, \"14\", cv2.flip(img_hist_eq, 1))"
   ]
  },
  {
   "cell_type": "code",
   "execution_count": 5,
   "metadata": {},
   "outputs": [],
   "source": [
    "source_images_path = \"/home/ubuntu/Data/AI4AXI/Bad_parts\"\n",
    "dest_images_path = \"/home/ubuntu/Data/AI4AXI/Bad_parts_Augmented\""
   ]
  },
  {
   "cell_type": "code",
   "execution_count": 6,
   "metadata": {},
   "outputs": [],
   "source": [
    "i = 0\n",
    "for file_name in glob.glob(source_images_path + \"/*.png\"):\n",
    "    print(\"Working on {}/200..\".format(i+1))\n",
    "    augment_store_image(file_name, dest_images_path)"
   ]
  },
  {
   "cell_type": "code",
   "execution_count": null,
   "metadata": {},
   "outputs": [],
   "source": [
    "filename = \"/home/ubuntu/Data/AI4AXI/Bad_parts/SFT.ER100_2851500245200.0674061F13EB17I14009A.11.X3.png\"\n",
    "img = cv2.imread(filename)\n",
    "\n",
    "# img = cv2.cvtColor(img, cv2.COLOR_BGR2RGB)\n",
    "\n",
    "# img_hist_eq = np.concatenate([np.expand_dims(cv2.equalizeHist(img[:,:,i]), axis=2) for i in range(3)], axis=2)\n",
    "# plt.imshow(img_hist_eq)\n",
    "# plt.show()\n",
    "\n",
    "plt.subplot(3,5,1)\n",
    "plt.imshow(img)\n",
    "plt.title('Original')\n",
    "\n",
    "plt.subplot(3,5,6)\n",
    "plt.imshow(cv2.flip(img, 0))\n",
    "cv2.imwrite(\"/home/ubuntu/Data/AI4AXI/Bad_parts_Augmented/SFT.ER100_2851500245200.0674061F13EB17I14009A.11.X3_1.png\", cv2.flip(img, 0))\n",
    "plt.title('Flipped Horizontal')\n",
    "\n",
    "plt.subplot(3,5,11)\n",
    "plt.imshow(cv2.flip(img, 1))\n",
    "plt.title('Flipped Vertical')\n",
    "\n",
    "plt.subplot(3,5,2)\n",
    "plt.imshow(getRotatedImage(img, 90))\n",
    "plt.title('Roatated 90')\n",
    "\n",
    "plt.subplot(3,5,7)\n",
    "plt.imshow(cv2.flip(getRotatedImage(img, 90), 0))\n",
    "plt.title('Flipped Horizontal')\n",
    "\n",
    "plt.subplot(3,5,12)\n",
    "plt.imshow(cv2.flip(getRotatedImage(img, 90), 1))\n",
    "plt.title('Flipped Vertical')\n",
    "\n",
    "plt.subplot(3,5,3)\n",
    "plt.imshow(getRotatedImage(img, 180))\n",
    "plt.title('Roatated 180')\n",
    "\n",
    "plt.subplot(3,5,8)\n",
    "plt.imshow(cv2.flip(getRotatedImage(img, 180), 0))\n",
    "plt.title('Flipped Horizontal')\n",
    "\n",
    "plt.subplot(3,5,13)\n",
    "plt.imshow(cv2.flip(getRotatedImage(img, 270), 1))\n",
    "plt.title('Flipped Vertical')\n",
    "\n",
    "plt.subplot(3,5,4)\n",
    "plt.imshow(getRotatedImage(img, 270))\n",
    "plt.title('Roatated 90')\n",
    "\n",
    "plt.subplot(3,5,9)\n",
    "plt.imshow(cv2.flip(getRotatedImage(img, 270), 0))\n",
    "plt.title('Flipped Horizontal')\n",
    "\n",
    "plt.subplot(3,5,14)\n",
    "plt.imshow(cv2.flip(getRotatedImage(img, 270), 1))\n",
    "plt.title('Flipped Vertical')\n",
    "\n",
    "\n",
    "plt.subplot(3,5,5)\n",
    "img_hist_eq = np.concatenate([np.expand_dims(cv2.equalizeHist(img[:,:,i]), axis=2) for i in range(3)], axis=2)\n",
    "plt.imshow(img_hist_eq)\n",
    "plt.title('Histogram Equalized')\n",
    "\n",
    "plt.subplot(3,5,10)\n",
    "img_hist_eq = np.concatenate([np.expand_dims(cv2.equalizeHist(img[:,:,i]), axis=2) for i in range(3)], axis=2)\n",
    "plt.imshow(cv2.flip(img_hist_eq, 0))\n",
    "plt.title('Flipped Horizontal')\n",
    "\n",
    "plt.subplot(3,5,15)\n",
    "img_hist_eq = np.concatenate([np.expand_dims(cv2.equalizeHist(img[:,:,i]), axis=2) for i in range(3)], axis=2)\n",
    "plt.imshow(cv2.flip(img_hist_eq, 1))\n",
    "plt.title('Flipped Vertical')\n",
    "\n",
    "plt.rcParams[\"figure.figsize\"] = (24, 15)"
   ]
  }
 ],
 "metadata": {
  "kernelspec": {
   "display_name": "Environment (conda_pytorch_p27)",
   "language": "python",
   "name": "conda_pytorch_p27"
  },
  "language_info": {
   "codemirror_mode": {
    "name": "ipython",
    "version": 2
   },
   "file_extension": ".py",
   "mimetype": "text/x-python",
   "name": "python",
   "nbconvert_exporter": "python",
   "pygments_lexer": "ipython2",
   "version": "2.7.15"
  }
 },
 "nbformat": 4,
 "nbformat_minor": 2
}
