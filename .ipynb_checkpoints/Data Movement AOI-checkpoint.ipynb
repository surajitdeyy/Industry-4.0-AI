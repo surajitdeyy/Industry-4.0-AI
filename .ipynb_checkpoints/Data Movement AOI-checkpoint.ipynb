{
 "cells": [
  {
   "cell_type": "code",
   "execution_count": 1,
   "metadata": {},
   "outputs": [],
   "source": [
    "import pandas as pd\n",
    "import matplotlib.pyplot as plt\n",
    "import cv2\n",
    "import os"
   ]
  },
  {
   "cell_type": "code",
   "execution_count": 2,
   "metadata": {},
   "outputs": [],
   "source": [
    "csv_data = pd.read_csv(\"/home/ubuntu/Data/AI4AOI/train/train.csv\")"
   ]
  },
  {
   "cell_type": "code",
   "execution_count": 3,
   "metadata": {},
   "outputs": [],
   "source": [
    "train_path = \"/home/ubuntu/Data/AI4AOI/train/\"\n",
    "dest_train_path = \"/home/ubuntu/Data/AOI_training/train/\""
   ]
  },
  {
   "cell_type": "code",
   "execution_count": 4,
   "metadata": {},
   "outputs": [],
   "source": [
    "bitmap_list = [\"bitmap_files_0\", \"bitmap_files_1\" ,\"bitmap_files_2\" ,\"bitmap_files_3\" ,\"bitmap_files_4\" ,\"bitmap_files_5\" ,\"bitmap_files_6\" ,\"bitmap_files_7\" ,\"bitmap_files_8\"]"
   ]
  },
  {
   "cell_type": "code",
   "execution_count": null,
   "metadata": {},
   "outputs": [],
   "source": [
    "for index, row in csv_data.iterrows():\n",
    "    print(\"Processing {} image..\".format(index+1))\n",
    "    list_nan = row.isna()[row.isna() == True].index.get_values()\n",
    "    missing_images = len(list_nan)\n",
    "    grayscale_image = cv2.imread(os.path.join(train_path, row['parent_name'], row['png_file']))\n",
    "    temp_image = None\n",
    "    for bitmap in bitmap_list:\n",
    "        if bitmap not in list_nan:\n",
    "            opt2gray_image = cv2.imread(os.path.join(train_path, row['parent_name'], row[bitmap]))\n",
    "            if temp_image is None:\n",
    "                temp_image = cv2.merge((grayscale_image, opt2gray_image))\n",
    "            else:\n",
    "                temp_image = cv2.merge((temp_image, opt2gray_image))\n",
    "    for i in range(len(list_nan)):\n",
    "        temp_image = cv2.merge((temp_image, grayscale_image))\n",
    "    print(temp_image.shape)\n",
    "    assert(temp_image.shape[2] == 10)\n",
    "    if(row['json_content.component.repair result']==1):\n",
    "        dest_path = os.path.join(dest_train_path, \"Bad_parts\")\n",
    "    else:\n",
    "        dest_path = os.path.join(dest_train_path, \"Good_parts\")\n",
    "        \n",
    "#         cv2.imwrite(os.path.join(dest_path, row['png_file']), temp_image)"
   ]
  },
  {
   "cell_type": "code",
   "execution_count": null,
   "metadata": {},
   "outputs": [],
   "source": [
    "bitmap_files_0\n",
    "bitmap_files_1\n",
    "bitmap_files_2\n",
    "bitmap_files_3\n",
    "bitmap_files_4\n",
    "bitmap_files_5\n",
    "bitmap_files_6\n",
    "bitmap_files_7\n",
    "bitmap_files_8\n",
    "json_content.component.repair result\n",
    "json_content.component.verification code\n",
    "json_file\n",
    "parent_name\n",
    "png_file"
   ]
  },
  {
   "cell_type": "code",
   "execution_count": null,
   "metadata": {},
   "outputs": [],
   "source": [
    "img_8 = cv2.imread(\"/home/ubuntu/Data/AI4AOI/train/0/0003224093B_20180506102920_SI16_VRF__C4230-7_9001/0003224093B_20180506102920_SI16_VRF__C4230-7_9001.Addpic_8.png\")\n",
    "img_9 = cv2.imread(\"/home/ubuntu/Data/AI4AOI/train/0/0003224093B_20180506102920_SI16_VRF__C4230-7_9001/0003224093B_20180506102920_SI16_VRF__C4230-7_9001.Addpic_9.png\")\n",
    "\n",
    "gray_image_8 = cv2.cvtColor(img_8, cv2.COLOR_BGR2GRAY)\n",
    "gray_image_9 = cv2.cvtColor(img_9, cv2.COLOR_BGR2GRAY)\n",
    "\n",
    "plt.subplot(131)\n",
    "plt.imshow(gray_image_8, cmap='gray')\n",
    "\n",
    "plt.subplot(132)\n",
    "plt.imshow(gray_image_9, cmap='gray')\n",
    "\n",
    "plt.subplot(133)\n",
    "converted_image = cv2.merge((gray_image_8, gray_image_9, gray_image_9,gray_image_9))\n",
    "plt.imshow(converted_image)"
   ]
  }
 ],
 "metadata": {
  "kernelspec": {
   "display_name": "Environment (conda_pytorch_p27)",
   "language": "python",
   "name": "conda_pytorch_p27"
  },
  "language_info": {
   "codemirror_mode": {
    "name": "ipython",
    "version": 2
   },
   "file_extension": ".py",
   "mimetype": "text/x-python",
   "name": "python",
   "nbconvert_exporter": "python",
   "pygments_lexer": "ipython2",
   "version": "2.7.15"
  }
 },
 "nbformat": 4,
 "nbformat_minor": 2
}
